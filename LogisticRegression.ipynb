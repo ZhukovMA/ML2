{
  "nbformat": 4,
  "nbformat_minor": 0,
  "metadata": {
    "kernelspec": {
      "display_name": "Python 3",
      "language": "python",
      "name": "python3"
    },
    "language_info": {
      "codemirror_mode": {
        "name": "ipython",
        "version": 3
      },
      "file_extension": ".py",
      "mimetype": "text/x-python",
      "name": "python",
      "nbconvert_exporter": "python",
      "pygments_lexer": "ipython3",
      "version": "3.7.3"
    },
    "colab": {
      "name": "LogisticRegression.ipynb",
      "provenance": []
    }
  },
  "cells": [
    {
      "cell_type": "code",
      "metadata": {
        "id": "f71MAEU0sO_C"
      },
      "source": [
        "import sys\n",
        "sys.path.append('./models/')\n",
        "import warnings\n",
        "warnings.simplefilter(\"ignore\")\n",
        "\n",
        "import numpy as np\n",
        "import pandas as pd\n",
        "from logRegression import LogRegression\n",
        "\n",
        "from sklearn.model_selection import KFold\n",
        "from sklearn.model_selection import train_test_split\n",
        "from sklearn.metrics import precision_score, accuracy_score, roc_auc_score"
      ],
      "execution_count": null,
      "outputs": []
    },
    {
      "cell_type": "code",
      "metadata": {
        "id": "79CbbhcQsO_I"
      },
      "source": [
        "def cross_val_score(model, X, y):\n",
        "    acc_scores = []\n",
        "    prec_scores = []\n",
        "    roc_scores = []\n",
        "    \n",
        "    kf = KFold(n_splits=5)\n",
        "    for train_index, test_index in kf.split(X):\n",
        "        X_train, X_test = X[train_index], X[test_index]\n",
        "        y_train, y_test = y[train_index], y[test_index]\n",
        "        model.fit(X_train, y_train)\n",
        "        y_pred = model.predict(X_test)\n",
        "        acc_score = accuracy_score(y_test, y_pred)\n",
        "        prec_score = precision_score(y_test, y_pred, pos_label='positive', average='micro')\n",
        "        roc_score = roc_auc_score(pd.get_dummies(y_test), pd.get_dummies(y_pred), multi_class='ovr')\n",
        "        acc_scores.append(acc_score)\n",
        "        prec_scores.append(prec_score)\n",
        "        roc_scores.append(roc_score)\n",
        "\n",
        "    score = np.mean(acc_scores), np.mean(prec_scores), np.mean(roc_scores)\n",
        "    return score"
      ],
      "execution_count": null,
      "outputs": []
    },
    {
      "cell_type": "markdown",
      "metadata": {
        "id": "CxZ0YW7hsO_I"
      },
      "source": [
        "# Разделение данных"
      ]
    },
    {
      "cell_type": "code",
      "metadata": {
        "id": "nsgZR54EsO_J"
      },
      "source": [
        "mobile_data = pd.read_csv('models/clearDataset.csv')\n",
        "X, Y = mobile_data.drop(['price_range'], axis=1), mobile_data['price_range']\n",
        "x_train, x_test, y_train, y_test = train_test_split(X, Y, test_size=0.33, random_state=42)"
      ],
      "execution_count": null,
      "outputs": []
    },
    {
      "cell_type": "code",
      "metadata": {
        "id": "mpXd5l83sO_J"
      },
      "source": [
        "def print_error_validation(accuracy, precission, roc_auc):\n",
        "    print('Ошибки на кросс валидации:')\n",
        "    print(f'Accuracy  = {accuracy}')\n",
        "    print(f'Precision = {precision}')\n",
        "    print(f'Roc auc   = {roc_auc}')\n",
        "    \n",
        "def retrain(model, x_train, x_test, y_train, y_test):\n",
        "    model.fit(x_train, y_train)\n",
        "    \n",
        "    y_pred_test = model.predict(x_test)\n",
        "    y_pred_train = model.predict(x_train)\n",
        "    \n",
        "    acc = accuracy_score(y_pred_train, y_train), accuracy_score(y_pred_test, y_test)\n",
        "    \n",
        "    prec = precision_score(y_pred_train, y_train, pos_label='positive', average='micro'), precision_score(y_pred_test, y_test, pos_label='positive', average='micro')\n",
        "    \n",
        "    roc = roc_auc_score(pd.get_dummies(y_train), pd.get_dummies(y_pred_train), multi_class='ovr'), roc_auc_score(pd.get_dummies(y_test), pd.get_dummies(y_pred_test), multi_class='ovr')\n",
        "    \n",
        "    print('Ошибки на выборках')\n",
        "    print('            Train                   Test')\n",
        "    print(f'Accuracy  = {acc[0]}  |  {acc[1]}')\n",
        "    print(f'Precision = {prec[0]}  |  {prec[1]}')\n",
        "    print(f'Roc auc   = {roc[0]}  |  {roc[1]}')\n",
        "    \n",
        "    \n",
        "def search_parametrs_C(C_list):\n",
        "    best_C = None\n",
        "    best_roc = -10\n",
        "    \n",
        "    for C in C_list:\n",
        "        model = LogRegression(C=C)\n",
        "        accuracy, precision, roc_auc = cross_val_score(model, X.values, Y.values)\n",
        "        if roc_auc > best_roc:\n",
        "            best_C = C\n",
        "    return best_C"
      ],
      "execution_count": null,
      "outputs": []
    },
    {
      "cell_type": "markdown",
      "metadata": {
        "id": "JO-WkuE-sO_K"
      },
      "source": [
        "# Логическая регрессия"
      ]
    },
    {
      "cell_type": "markdown",
      "metadata": {
        "id": "0qkFL5vNsO_K"
      },
      "source": [
        "# Без регуляризации"
      ]
    },
    {
      "cell_type": "code",
      "metadata": {
        "id": "TMRBsZSwsO_K"
      },
      "source": [
        "model = LogRegression()"
      ],
      "execution_count": null,
      "outputs": []
    },
    {
      "cell_type": "code",
      "metadata": {
        "id": "ZoHtQ8zksO_K",
        "outputId": "afe35ce0-509a-4412-dd8f-3a583a6bff22"
      },
      "source": [
        "accuracy, precision, roc_auc = cross_val_score(model, X.values, Y.values)\n",
        "print_error_validation(accuracy, precision, roc_auc)"
      ],
      "execution_count": null,
      "outputs": [
        {
          "output_type": "stream",
          "text": [
            "Ошибки на кросс валидации:\n",
            "Accuracy  = 0.4045112781954887\n",
            "Precision = 0.4045112781954887\n",
            "Roc auc   = 0.6272036634337573\n"
          ],
          "name": "stdout"
        }
      ]
    },
    {
      "cell_type": "code",
      "metadata": {
        "id": "HcmARrjNsO_L",
        "outputId": "49d00937-9733-4c8b-d91f-b6bcb8918ae1"
      },
      "source": [
        "retrain(model, x_train.values, x_test.values, y_train.values, y_test.values)"
      ],
      "execution_count": null,
      "outputs": [
        {
          "output_type": "stream",
          "text": [
            "Ошибки на выборках\n",
            "            Train                   Test\n",
            "Accuracy  = 0.5  |  0.4992412746585736\n",
            "Precision = 0.5  |  0.4992412746585736\n",
            "Roc auc   = 0.6720754157429131  |  0.672596230890465\n"
          ],
          "name": "stdout"
        }
      ]
    },
    {
      "cell_type": "markdown",
      "metadata": {
        "id": "e8pB6zOQsO_M"
      },
      "source": [
        "# С регуляризацией"
      ]
    },
    {
      "cell_type": "markdown",
      "metadata": {
        "id": "QHF9cap0sO_M"
      },
      "source": [
        "### Поиск по параметрам\n",
        "\n"
      ]
    },
    {
      "cell_type": "code",
      "metadata": {
        "id": "yxjoQvJ3sO_M",
        "outputId": "bd2f9eb7-3af2-4f7e-e524-3ce2ee56bd02"
      },
      "source": [
        "C = search_parametrs_C(C_list=np.arange(0,1,0.05))\n",
        "print(f'Best parameter C = {C}')"
      ],
      "execution_count": null,
      "outputs": [
        {
          "output_type": "stream",
          "text": [
            "Best parameter C = 0.9500000000000001\n"
          ],
          "name": "stdout"
        }
      ]
    },
    {
      "cell_type": "code",
      "metadata": {
        "id": "wVEybfclsO_M"
      },
      "source": [
        "model = LogRegression(C=C)"
      ],
      "execution_count": null,
      "outputs": []
    },
    {
      "cell_type": "code",
      "metadata": {
        "id": "B5F6yQzEsO_M",
        "outputId": "6cc1ba7b-97d0-43b7-bf97-ab1e72c77e83"
      },
      "source": [
        "accuracy,precision,roc_auc = cross_val_score(model,X.values,Y.values)\n",
        "print_error_validation(accuracy,precision,roc_auc)"
      ],
      "execution_count": null,
      "outputs": [
        {
          "output_type": "stream",
          "text": [
            "Ошибки на кросс валидации:\n",
            "Accuracy  = 0.3568922305764411\n",
            "Precision = 0.3568922305764411\n",
            "Roc auc   = 0.579102713717152\n"
          ],
          "name": "stdout"
        }
      ]
    },
    {
      "cell_type": "code",
      "metadata": {
        "id": "v0K3v-7ZsO_N",
        "outputId": "94fac338-2421-4341-ead7-28a2265666b3"
      },
      "source": [
        "retrain(model, x_train.values, x_test.values, y_train.values, y_test.values)"
      ],
      "execution_count": null,
      "outputs": [
        {
          "output_type": "stream",
          "text": [
            "Ошибки на выборках\n",
            "            Train                   Test\n",
            "Accuracy  = 0.47380239520958084  |  0.4628224582701062\n",
            "Precision = 0.47380239520958084  |  0.4628224582701062\n",
            "Roc auc   = 0.6019687936145997  |  0.6233187374443899\n"
          ],
          "name": "stdout"
        }
      ]
    },
    {
      "cell_type": "markdown",
      "metadata": {
        "id": "a9JbebvLsO_N"
      },
      "source": [
        "# Логическая регрессия с Sklearn"
      ]
    },
    {
      "cell_type": "code",
      "metadata": {
        "id": "sJGTbfsDsO_N"
      },
      "source": [
        "from sklearn.linear_model import LogisticRegression\n",
        "from sklearn.model_selection import cross_val_score\n",
        "from sklearn.model_selection import cross_validate\n",
        "from sklearn.model_selection import GridSearchCV\n",
        "from sklearn.linear_model import LogisticRegressionCV\n",
        "scoring = ['precision_micro', 'roc_auc','accuracy']\n",
        "scoring_test = ['test_accuracy','test_precision_micro','test_roc_auc']"
      ],
      "execution_count": null,
      "outputs": []
    },
    {
      "cell_type": "code",
      "metadata": {
        "id": "XDVA5f5qsO_N",
        "outputId": "097003d9-539b-4562-c3d2-fff07ee65e18"
      },
      "source": [
        "logreg = LogisticRegression(C=1e5)\n",
        "logreg.fit(x_train, y_train)\n",
        "y_pred = logreg.predict(x_test)\n",
        "print(f'Ошибка на выборках:\\nAccuracy = {accuracy_score(y_test, y_pred)}')"
      ],
      "execution_count": null,
      "outputs": [
        {
          "output_type": "stream",
          "text": [
            "Ошибка на выборках:\n",
            "Accuracy = 0.622154779969651\n"
          ],
          "name": "stdout"
        }
      ]
    },
    {
      "cell_type": "code",
      "metadata": {
        "id": "UVUAe2GdsO_N",
        "outputId": "ed363bbb-2f1e-49c2-d42b-b83c8355393e"
      },
      "source": [
        "logreg = LogisticRegressionCV(cv=5, multi_class='ovr', random_state=0).fit(x_train, y_train)\n",
        "y_pred = logreg.predict(x_test)\n",
        "\n",
        "print(f'Ошибки на кросс валидации:\\nAccuracy = {accuracy_score(y_test, y_pred)} ')"
      ],
      "execution_count": null,
      "outputs": [
        {
          "output_type": "stream",
          "text": [
            "Ошибки на кросс валидации:\n",
            "Accuracy = 0.6889226100151745\n"
          ],
          "name": "stdout"
        }
      ]
    },
    {
      "cell_type": "code",
      "metadata": {
        "id": "DhIfnQ9csO_O",
        "outputId": "d3541286-d781-4a27-ed1e-dd011fa3882f"
      },
      "source": [
        "retrain(logreg, x_train.values, x_test.values, y_train.values, y_test.values)"
      ],
      "execution_count": null,
      "outputs": [
        {
          "output_type": "stream",
          "text": [
            "Ошибки на выборках\n",
            "            Train                   Test\n",
            "Accuracy  = 0.7155688622754491  |  0.6889226100151745\n",
            "Precision = 0.7155688622754491  |  0.6889226100151745\n",
            "Roc auc   = 0.8097067621777602  |  0.7940238612896533\n"
          ],
          "name": "stdout"
        }
      ]
    }
  ]
}