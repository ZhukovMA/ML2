{
 "cells": [
  {
   "cell_type": "code",
   "execution_count": 1,
   "metadata": {},
   "outputs": [],
   "source": [
    "import sys\n",
    "sys.path.append('./models/')\n",
    "import warnings\n",
    "warnings.simplefilter(\"ignore\")\n",
    "\n",
    "import numpy as np\n",
    "import pandas as pd\n",
    "from KNN import KNN\n",
    "from sklearn.model_selection import KFold\n",
    "from sklearn.model_selection import train_test_split\n",
    "from sklearn.metrics import precision_score, accuracy_score, roc_auc_score"
   ]
  },
  {
   "cell_type": "code",
   "execution_count": 2,
   "metadata": {},
   "outputs": [],
   "source": [
    "def print_error_validation(accuracy, precission, roc_auc):\n",
    "    print('Ошибки на кросс валидации:')\n",
    "    print(f'Accuracy  = {accuracy}')\n",
    "    print(f'Precision = {precision}')\n",
    "    print(f'Roc auc   = {roc_auc}')\n",
    "    \n",
    "def retrain(model, x_train, x_test, y_train, y_test):\n",
    "    \n",
    "    x_train = np.array(x_train)\n",
    "    y_train = np.array(y_train)\n",
    "    x_train = np.column_stack((x_train, y_train))\n",
    "    \n",
    "    model.fit(x_train, y_train)\n",
    "    \n",
    "    y_pred_test = model.predict(x_train, x_test)\n",
    "    y_pred_train = model.predict(x_train, x_train)\n",
    "    \n",
    "    acc = accuracy_score(y_pred_train, y_train), accuracy_score(y_pred_test, y_test)\n",
    "    \n",
    "    prec = precision_score(y_pred_train, y_train, pos_label='positive', average='micro'), precision_score(y_pred_test, y_test, pos_label='positive', average='micro')\n",
    "    \n",
    "    roc = roc_auc_score(pd.get_dummies(y_train), pd.get_dummies(y_pred_train), multi_class='ovr'), roc_auc_score(pd.get_dummies(y_test), pd.get_dummies(y_pred_test), multi_class='ovr')\n",
    "    \n",
    "    print('Ошибки на выборках')\n",
    "    print('            Train                  Test')\n",
    "    print(f'Accuracy  = {acc[0]}  |  {acc[1]}')\n",
    "    print(f'Precision = {prec[0]}  |  {prec[1]}')\n",
    "    print(f'Roc auc   = {roc[0]}  |  {roc[1]}')\n",
    "    \n",
    "def sklearn_retrain(model, x_train, x_test, y_train, y_test):\n",
    "    model.fit(x_train, y_train)\n",
    "    \n",
    "    y_pred_test = model.predict(x_test)\n",
    "    y_pred_train = model.predict(x_train)\n",
    "    \n",
    "    acc = accuracy_score(y_pred_train, y_train), accuracy_score(y_pred_test, y_test)\n",
    "    \n",
    "    prec = precision_score(y_pred_train, y_train, pos_label='positive', average='micro'), precision_score(y_pred_test, y_test, pos_label='positive', average='micro')\n",
    "    \n",
    "    roc = roc_auc_score(pd.get_dummies(y_train), pd.get_dummies(y_pred_train), multi_class='ovr'), roc_auc_score(pd.get_dummies(y_test), pd.get_dummies(y_pred_test), multi_class='ovr')\n",
    "    \n",
    "    print('Ошибки на выборках')\n",
    "    print('            Train                  Test')\n",
    "    print(f'Accuracy  = {acc[0]}  |  {acc[1]}')\n",
    "    print(f'Precision = {prec[0]}  |  {prec[1]}')\n",
    "    print(f'Roc auc   = {roc[0]}  |  {roc[1]}')\n",
    "    \n",
    "def search_n_neighbors(x_train, y_train, x_test, y_test, n_neighbors_list):\n",
    "    best_n = None\n",
    "    best_roc = -10\n",
    "    for n_n in n_neighbors_list:\n",
    "        model = KNN(n_n, 5)\n",
    "        accuracy, precision, roc_auc = cross_val_score(model, x_train.values, y_train.values, x_test.values, y_test.values)\n",
    "        if roc_auc > best_roc:\n",
    "            best_n = n_n"
   ]
  },
  {
   "cell_type": "code",
   "execution_count": 3,
   "metadata": {},
   "outputs": [],
   "source": [
    "def cross_val_score(model, x_train, y_train, x_test, y_test):\n",
    "    acc_scores = []\n",
    "    prec_scores = []\n",
    "    roc_scores = []\n",
    "\n",
    "    x_train = np.array(x_train)\n",
    "    y_train = np.array(y_train)\n",
    "    x_train = np.column_stack((x_train, y_train))\n",
    "    \n",
    "    sc = model.fit(x_train, y_train)\n",
    "    \n",
    "    print(f'CV scores: {sc}')\n",
    "    mn = sum(sc) / float(len(sc))\n",
    "    print(f'Train data accuracy: {mn}')\n",
    "    \n",
    "    y_pred = model.predict(x_train, x_test)\n",
    "    \n",
    "    acc_scores.append(accuracy_score(y_test, y_pred))\n",
    "    prec_scores.append(precision_score(y_test, y_pred, pos_label='positive', average='micro'))\n",
    "    roc_scores.append(roc_auc_score(pd.get_dummies(y_test), \n",
    "                                    pd.get_dummies(y_pred), multi_class='ovr'))\n",
    "    \n",
    "    score = np.mean(acc_scores), np.mean(prec_scores), np.mean(roc_scores)\n",
    "    return score"
   ]
  },
  {
   "cell_type": "markdown",
   "metadata": {},
   "source": [
    "# Data splitting"
   ]
  },
  {
   "cell_type": "code",
   "execution_count": 4,
   "metadata": {},
   "outputs": [],
   "source": [
    "mobile_data = pd.read_csv('models/clearDataset.csv')\n",
    "X, Y = mobile_data.drop(['price_range'], axis=1), mobile_data['price_range']\n",
    "x_train, x_test, y_train, y_test = train_test_split(X, Y, test_size=0.33, random_state=42)"
   ]
  },
  {
   "cell_type": "markdown",
   "metadata": {},
   "source": [
    "# KNN Classificator implementation"
   ]
  },
  {
   "cell_type": "markdown",
   "metadata": {},
   "source": [
    "### Searching for parameters"
   ]
  },
  {
   "cell_type": "code",
   "execution_count": 5,
   "metadata": {},
   "outputs": [
    {
     "name": "stdout",
     "output_type": "stream",
     "text": [
      "Best n: 5"
     ]
    }
   ],
   "source": [
    "n_neighbors = search_n_neighbors(x_train, y_train, x_test, y_test, np.arange(3,12,2))\n",
    "print(f'Best n: {n_neighbors}')"
   ]
  },
  {
   "cell_type": "markdown",
   "metadata": {},
   "source": [
    "### Evaluating model"
   ]
  },
  {
   "cell_type": "code",
   "execution_count": 6,
   "metadata": {},
   "outputs": [
    {
     "name": "stdout",
     "output_type": "stream",
     "text": [
      "CV scores: [0.8951310861423221, 0.9026217228464419, 0.9213483146067416, 0.9213483146067416, 0.947565543071161]\n",
      "Train data accuracy: 0.9176029962546817\n",
      "Ошибки на кросс валидации:\n",
      "Accuracy  = 0.9241274658573596\n",
      "Precision = 0.9241274658573596\n",
      "Roc auc   = 0.9495108095293339\n"
     ]
    }
   ],
   "source": [
    "model = KNN(5)\n",
    "accuracy, precision, roc_auc = cross_val_score(model, x_train.values, y_train.values, x_test.values, y_test.values)\n",
    "print_error_validation(accuracy, precision, roc_auc)\n",
    "# model.fit(x_train, y_train)\n",
    "# y_pred = model.predict(x_test)"
   ]
  },
  {
   "cell_type": "code",
   "execution_count": 7,
   "metadata": {},
   "outputs": [
    {
     "name": "stdout",
     "output_type": "stream",
     "text": [
      "Ошибки на выборках\n",
      "            Train                  Test\n",
      "Accuracy  = 0.9520958083832335  |  0.9241274658573596\n",
      "Precision = 0.9520958083832335  |  0.9241274658573596\n",
      "Roc auc   = 0.9680700989877046  |  0.9495108095293339\n"
     ]
    }
   ],
   "source": [
    "retrain(model, x_train.values, x_test.values, y_train.values, y_test.values)"
   ]
  },
  {
   "cell_type": "markdown",
   "metadata": {},
   "source": [
    "# KNN with Sklearn"
   ]
  },
  {
   "cell_type": "code",
   "execution_count": 8,
   "metadata": {},
   "outputs": [
    {
     "name": "stdout",
     "output_type": "stream",
     "text": [
      "Ошибка на выборках:\n",
      "Accuracy = 0.9241274658573596\n"
     ]
    }
   ],
   "source": [
    "from sklearn.neighbors import KNeighborsClassifier\n",
    "neigh = KNeighborsClassifier(n_neighbors=5)\n",
    "\n",
    "neigh.fit(x_train, y_train)\n",
    "y_pred = neigh.predict(x_test)\n",
    "\n",
    "print(f'Ошибка на выборках:\\nAccuracy = {accuracy_score(y_test, y_pred)}')"
   ]
  },
  {
   "cell_type": "code",
   "execution_count": 9,
   "metadata": {},
   "outputs": [
    {
     "name": "stdout",
     "output_type": "stream",
     "text": [
      "Ошибки на выборках\n",
      "            Train                  Test\n",
      "Accuracy  = 0.9520958083832335  |  0.9241274658573596\n",
      "Precision = 0.9520958083832335  |  0.9241274658573596\n",
      "Roc auc   = 0.9680700989877046  |  0.9495108095293339\n"
     ]
    }
   ],
   "source": [
    "sklearn_retrain(neigh, x_train.values, x_test.values, y_train.values, y_test.values)"
   ]
  }
 ],
 "metadata": {
  "kernelspec": {
   "display_name": "Python 3",
   "language": "python",
   "name": "python3"
  },
  "language_info": {
   "codemirror_mode": {
    "name": "ipython",
    "version": 3
   },
   "file_extension": ".py",
   "mimetype": "text/x-python",
   "name": "python",
   "nbconvert_exporter": "python",
   "pygments_lexer": "ipython3",
   "version": "3.7.3"
  }
 },
 "nbformat": 4,
 "nbformat_minor": 2
}
