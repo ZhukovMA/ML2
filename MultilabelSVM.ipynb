{
  "nbformat": 4,
  "nbformat_minor": 0,
  "metadata": {
    "kernelspec": {
      "display_name": "Python 3",
      "language": "python",
      "name": "python3"
    },
    "language_info": {
      "codemirror_mode": {
        "name": "ipython",
        "version": 3
      },
      "file_extension": ".py",
      "mimetype": "text/x-python",
      "name": "python",
      "nbconvert_exporter": "python",
      "pygments_lexer": "ipython3",
      "version": "3.7.3"
    },
    "colab": {
      "name": "MultilabelSVM.ipynb",
      "provenance": []
    }
  },
  "cells": [
    {
      "cell_type": "code",
      "metadata": {
        "id": "WuPkitbNsv8M"
      },
      "source": [
        "import sys\n",
        "sys.path.append('./models/')\n",
        "import warnings\n",
        "warnings.simplefilter(\"ignore\")\n",
        "\n",
        "import numpy as np\n",
        "import pandas as pd\n",
        "from SVM import SVM\n",
        "from sklearn.model_selection import KFold\n",
        "from sklearn.model_selection import train_test_split\n",
        "from sklearn.metrics import precision_score, accuracy_score, roc_auc_score"
      ],
      "execution_count": null,
      "outputs": []
    },
    {
      "cell_type": "code",
      "metadata": {
        "id": "I6L1DDMpsv8R"
      },
      "source": [
        "def cross_val_scoring(model, X, y):\n",
        "    acc_scores = []\n",
        "    prec_scores = []\n",
        "    roc_scores = []\n",
        "    \n",
        "    kf = KFold(n_splits=5)\n",
        "    for train_index, test_index in kf.split(X):\n",
        "        X_train, X_test = X[train_index], X[test_index]\n",
        "        y_train, y_test = y[train_index], y[test_index]\n",
        "        model.fit(X_train, y_train)\n",
        "        y_pred = model.predict(X_test)\n",
        "        acc_score = accuracy_score(y_test, y_pred)\n",
        "        prec_score = precision_score(y_test, y_pred, pos_label='positive', average='micro')\n",
        "        roc_score = roc_auc_score(pd.get_dummies(y_test), pd.get_dummies(y_pred), multi_class='ovr')\n",
        "        acc_scores.append(acc_score)\n",
        "        prec_scores.append(prec_score)\n",
        "        roc_scores.append(roc_score)\n",
        "\n",
        "    score = np.mean(acc_scores), np.mean(prec_scores), np.mean(roc_scores)\n",
        "    return score"
      ],
      "execution_count": null,
      "outputs": []
    },
    {
      "cell_type": "code",
      "metadata": {
        "id": "XHol3Myhsv8S"
      },
      "source": [
        "def print_error_validation(accuracy, precission, roc_auc):\n",
        "    print('Ошибки на кросс валидации:')\n",
        "    print(f'Accuracy  = {accuracy}')\n",
        "    print(f'Precision = {precision}')\n",
        "    print(f'Roc auc   = {roc_auc}')\n",
        "    \n",
        "def retrain(model, x_train, x_test, y_train, y_test):\n",
        "    model.fit(x_train, y_train)\n",
        "    \n",
        "    y_pred_test = model.predict(x_test)\n",
        "    y_pred_train = model.predict(x_train)\n",
        "    \n",
        "    acc = accuracy_score(y_pred_train, y_train), accuracy_score(y_pred_test, y_test)\n",
        "    \n",
        "    prec = precision_score(y_pred_train, y_train, pos_label='positive', average='micro'), precision_score(y_pred_test, y_test, pos_label='positive', average='micro')\n",
        "    \n",
        "    roc = roc_auc_score(pd.get_dummies(y_train), pd.get_dummies(y_pred_train), multi_class='ovr'), roc_auc_score(pd.get_dummies(y_test), pd.get_dummies(y_pred_test), multi_class='ovr')\n",
        "    \n",
        "    print('Ошибки на выборках')\n",
        "    print('            Train                   Test')\n",
        "    print(f'Accuracy  = {acc[0]}  |  {acc[1]}')\n",
        "    print(f'Precision = {prec[0]}  |  {prec[1]}')\n",
        "    print(f'Roc auc   = {roc[0]}  |  {roc[1]}')\n",
        "    \n",
        "    \n",
        "def search_parametrs_C(X, Y, C_list):\n",
        "    best_C = None\n",
        "    best_roc = -10\n",
        "    \n",
        "    for C in C_list:\n",
        "        model = SVM(C=C)\n",
        "        accuracy, precision, roc_auc = cross_val_scoring(model, X.values, Y.values)\n",
        "        if roc_auc > best_roc:\n",
        "            best_C = C\n",
        "    return best_C"
      ],
      "execution_count": null,
      "outputs": []
    },
    {
      "cell_type": "markdown",
      "metadata": {
        "id": "2LvmfX6ksv8T"
      },
      "source": [
        "# Разделение данных"
      ]
    },
    {
      "cell_type": "code",
      "metadata": {
        "id": "_o-xtqH-sv8T"
      },
      "source": [
        "mobile_data = pd.read_csv('models/clearDataset.csv')\n",
        "X, Y = mobile_data.drop(['price_range'], axis=1), mobile_data['price_range']\n",
        "x_train, x_test, y_train, y_test = train_test_split(X, Y, test_size=0.33, random_state=42)"
      ],
      "execution_count": null,
      "outputs": []
    },
    {
      "cell_type": "markdown",
      "metadata": {
        "id": "QjSpW097sv8T"
      },
      "source": [
        "# SVM Классификатор"
      ]
    },
    {
      "cell_type": "markdown",
      "metadata": {
        "id": "77NwTlghsv8T"
      },
      "source": [
        "### Поиск по параметрам"
      ]
    },
    {
      "cell_type": "code",
      "metadata": {
        "id": "IL-hb84msv8U",
        "outputId": "6a12cbd0-fdde-4db2-e33f-ed924f8bd4c1"
      },
      "source": [
        "C = search_parametrs_C(X, Y, C_list=np.arange(1, 10, 1))\n",
        "print(f'Best C = {2}')"
      ],
      "execution_count": null,
      "outputs": [
        {
          "output_type": "stream",
          "text": [
            "Best C = 2\n"
          ],
          "name": "stdout"
        }
      ]
    },
    {
      "cell_type": "code",
      "metadata": {
        "id": "A_XX3SbDsv8V",
        "outputId": "7d817c88-c064-4de1-8910-7fa823b61088"
      },
      "source": [
        "model = SVM(C=2)\n",
        "accuracy, precision, roc_auc = cross_val_scoring(model, X.values, Y.values)\n",
        "print_error_validation(accuracy, precision, roc_auc)"
      ],
      "execution_count": null,
      "outputs": [
        {
          "output_type": "stream",
          "text": [
            "Ошибки на кросс валидации:\n",
            "Accuracy  = 0.5548872180451128\n",
            "Precision = 0.5548872180451128\n",
            "Roc auc   = 0.6726917825855202\n"
          ],
          "name": "stdout"
        }
      ]
    },
    {
      "cell_type": "code",
      "metadata": {
        "id": "m9ndzCrTsv8V",
        "outputId": "f45502a0-837b-474f-8662-2ecf0595898a"
      },
      "source": [
        "retrain(model, x_train.values, x_test.values, y_train.values, y_test.values)"
      ],
      "execution_count": null,
      "outputs": [
        {
          "output_type": "stream",
          "text": [
            "Ошибки на выборках\n",
            "            Train                   Test\n",
            "Accuracy  = 0.4588323353293413  |  0.44764795144157815\n",
            "Precision = 0.4588323353293413  |  0.44764795144157815\n",
            "Roc auc   = 0.6191507423349809  |  0.6112348013912755\n"
          ],
          "name": "stdout"
        }
      ]
    },
    {
      "cell_type": "markdown",
      "metadata": {
        "id": "h9fcpUs_sv8V"
      },
      "source": [
        "# SVM с Sklearn"
      ]
    },
    {
      "cell_type": "code",
      "metadata": {
        "id": "9vElghqSsv8V"
      },
      "source": [
        "from sklearn import svm\n",
        "from sklearn.model_selection import cross_val_score\n",
        "from sklearn.model_selection import cross_validate\n",
        "from sklearn.model_selection import GridSearchCV"
      ],
      "execution_count": null,
      "outputs": []
    },
    {
      "cell_type": "markdown",
      "metadata": {
        "id": "AzRfzTHvsv8W"
      },
      "source": [
        "### Поиск по параметрам"
      ]
    },
    {
      "cell_type": "code",
      "metadata": {
        "id": "4GEQUahfsv8W"
      },
      "source": [
        "clf = svm.SVC(decision_function_shape = 'ovr')\n",
        "parameters = {'C':np.arange(1, 30, 5)}\n",
        "clf_gs = GridSearchCV(clf, parameters)"
      ],
      "execution_count": null,
      "outputs": []
    },
    {
      "cell_type": "code",
      "metadata": {
        "id": "0U72pFHQsv8W",
        "outputId": "866c9cac-6e2c-4d83-dd7d-70ab8b9edb17"
      },
      "source": [
        "clf_gs.fit(X, Y)"
      ],
      "execution_count": null,
      "outputs": [
        {
          "output_type": "execute_result",
          "data": {
            "text/plain": [
              "GridSearchCV(cv=None, error_score=nan,\n",
              "             estimator=SVC(C=1.0, break_ties=False, cache_size=200,\n",
              "                           class_weight=None, coef0=0.0,\n",
              "                           decision_function_shape='ovr', degree=3,\n",
              "                           gamma='scale', kernel='rbf', max_iter=-1,\n",
              "                           probability=False, random_state=None, shrinking=True,\n",
              "                           tol=0.001, verbose=False),\n",
              "             iid='deprecated', n_jobs=None,\n",
              "             param_grid={'C': array([ 1,  6, 11, 16, 21, 26])},\n",
              "             pre_dispatch='2*n_jobs', refit=True, return_train_score=False,\n",
              "             scoring=None, verbose=0)"
            ]
          },
          "metadata": {
            "tags": []
          },
          "execution_count": 10
        }
      ]
    },
    {
      "cell_type": "code",
      "metadata": {
        "id": "lPAYdrO6sv8W",
        "outputId": "aa62a2b8-cffb-472c-d910-a5e2122fde10"
      },
      "source": [
        "clf_gs.best_estimator_"
      ],
      "execution_count": null,
      "outputs": [
        {
          "output_type": "execute_result",
          "data": {
            "text/plain": [
              "SVC(C=21, break_ties=False, cache_size=200, class_weight=None, coef0=0.0,\n",
              "    decision_function_shape='ovr', degree=3, gamma='scale', kernel='rbf',\n",
              "    max_iter=-1, probability=False, random_state=None, shrinking=True,\n",
              "    tol=0.001, verbose=False)"
            ]
          },
          "metadata": {
            "tags": []
          },
          "execution_count": 11
        }
      ]
    },
    {
      "cell_type": "code",
      "metadata": {
        "id": "8hf9_IW1sv8X",
        "outputId": "70256b48-cbdc-4bd0-e8bb-d60a0d91765e"
      },
      "source": [
        "retrain(clf, x_train.values, x_test.values, y_train.values, y_test.values)"
      ],
      "execution_count": null,
      "outputs": [
        {
          "output_type": "stream",
          "text": [
            "Ошибки на выборках\n",
            "            Train                   Test\n",
            "Accuracy  = 0.9468562874251497  |  0.9559939301972686\n",
            "Precision = 0.9468562874251497  |  0.9559939301972686\n",
            "Roc auc   = 0.9645010781616375  |  0.9707807420761585\n"
          ],
          "name": "stdout"
        }
      ]
    }
  ]
}