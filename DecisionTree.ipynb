{
  "nbformat": 4,
  "nbformat_minor": 0,
  "metadata": {
    "kernelspec": {
      "display_name": "Python 3",
      "language": "python",
      "name": "python3"
    },
    "language_info": {
      "codemirror_mode": {
        "name": "ipython",
        "version": 3
      },
      "file_extension": ".py",
      "mimetype": "text/x-python",
      "name": "python",
      "nbconvert_exporter": "python",
      "pygments_lexer": "ipython3",
      "version": "3.7.3"
    },
    "colab": {
      "name": "DecisionTree.ipynb",
      "provenance": []
    }
  },
  "cells": [
    {
      "cell_type": "code",
      "metadata": {
        "id": "PI7ZJUp9oA_g"
      },
      "source": [
        "import sys\n",
        "sys.path.append('./models/')\n",
        "import warnings\n",
        "warnings.simplefilter(\"ignore\")\n",
        "\n",
        "import numpy as np\n",
        "import pandas as pd\n",
        "from decisionTree import DecisionTree\n",
        "from sklearn.model_selection import KFold\n",
        "from sklearn.model_selection import train_test_split\n",
        "from sklearn.metrics import precision_score, accuracy_score, roc_auc_score"
      ],
      "execution_count": null,
      "outputs": []
    },
    {
      "cell_type": "code",
      "metadata": {
        "id": "Sapsg-3JoA_m"
      },
      "source": [
        "def cross_val_scoring(model, X, y):\n",
        "    acc_scores = []\n",
        "    prec_scores = []\n",
        "    roc_scores = []\n",
        "    \n",
        "    kf = KFold(n_splits=5)\n",
        "    for train_index, test_index in kf.split(X):\n",
        "        X_train, X_test = X[train_index], X[test_index]\n",
        "        y_train, y_test = y[train_index], y[test_index]\n",
        "        model.fit(X_train, y_train)\n",
        "        y_pred = model.predict(X_test)\n",
        "        acc_score = accuracy_score(y_test, y_pred)\n",
        "        prec_score = precision_score(y_test, y_pred, pos_label='positive', average='micro')\n",
        "        roc_score = roc_auc_score(pd.get_dummies(y_test), pd.get_dummies(y_pred), multi_class='ovr')\n",
        "        acc_scores.append(acc_score)\n",
        "        prec_scores.append(prec_score)\n",
        "        roc_scores.append(roc_score)\n",
        "\n",
        "    score = np.mean(acc_scores), np.mean(prec_scores), np.mean(roc_scores)\n",
        "    return score"
      ],
      "execution_count": null,
      "outputs": []
    },
    {
      "cell_type": "code",
      "metadata": {
        "id": "axpT3K5IoA_m"
      },
      "source": [
        "def print_error_validation(accuracy, precission, roc_auc):\n",
        "    print('Ошибки на кросс валидации:')\n",
        "    print(f'Accuracy  = {accuracy}')\n",
        "    print(f'Precision = {precision}')\n",
        "    print(f'Roc auc   = {roc_auc}')\n",
        "    \n",
        "def retrain(model, x_train, x_test, y_train, y_test):\n",
        "    model.fit(x_train, y_train)\n",
        "    \n",
        "    y_pred_test = model.predict(x_test)\n",
        "    y_pred_train = model.predict(x_train)\n",
        "    \n",
        "    acc = accuracy_score(y_pred_train, y_train), accuracy_score(y_pred_test, y_test)\n",
        "    \n",
        "    prec = precision_score(y_pred_train, y_train, pos_label='positive', average='micro'), precision_score(y_pred_test, y_test, pos_label='positive', average='micro')\n",
        "    \n",
        "    roc = roc_auc_score(pd.get_dummies(y_train), pd.get_dummies(y_pred_train), multi_class='ovr'), roc_auc_score(pd.get_dummies(y_test), pd.get_dummies(y_pred_test), multi_class='ovr')\n",
        "    \n",
        "    print('Ошибки на выборках')\n",
        "    print('            Train                  Test')\n",
        "    print(f'Accuracy  = {acc[0]}  |  {acc[1]}')\n",
        "    print(f'Precision = {prec[0]}  |  {prec[1]}')\n",
        "    print(f'Roc auc   = {roc[0]}  |  {roc[1]}')\n",
        "    \n",
        "\n",
        "def search_parametrs(x, y, max_depth_list, min_size_list):\n",
        "    best_max_depth = None\n",
        "    best_min_size = None\n",
        "    best_roc = -10\n",
        "    \n",
        "    for max_depth in max_depth_list:\n",
        "        for min_size in min_size_list:\n",
        "            model = DecisionTree(max_depth=max_depth, min_size=min_size)\n",
        "            accuracy, precision, roc_auc = cross_val_scoring(model, x.values, y.values)\n",
        "            if roc_auc > best_roc:\n",
        "                best_max_depth, best_min_size = max_depth, min_size\n",
        "    return best_max_depth, best_min_size"
      ],
      "execution_count": null,
      "outputs": []
    },
    {
      "cell_type": "markdown",
      "metadata": {
        "id": "KEc9U2tgoA_n"
      },
      "source": [
        "# Разделение данных"
      ]
    },
    {
      "cell_type": "code",
      "metadata": {
        "id": "sIwqAPGuoA_n"
      },
      "source": [
        "mobile_data = pd.read_csv('models/clearDataset.csv')\n",
        "X, Y = mobile_data.drop(['price_range'], axis=1), mobile_data['price_range']\n",
        "x_train, x_test, y_train, y_test = train_test_split(X, Y, test_size=0.33, random_state=42)"
      ],
      "execution_count": null,
      "outputs": []
    },
    {
      "cell_type": "markdown",
      "metadata": {
        "id": "sJQMOghWoA_o"
      },
      "source": [
        "### Поиск по параметрам"
      ]
    },
    {
      "cell_type": "code",
      "metadata": {
        "id": "jYMIZoSKoA_o",
        "outputId": "f29fa0b8-2d92-49db-dc3e-bde6dadd2c38"
      },
      "source": [
        "max_depth, min_size = search_parametrs(X, Y, max_depth_list=np.arange(5,10,1), min_size_list=np.arange(5,10,1))\n",
        "print(f'Best: depth = {max_depth}, size = {min_size}')"
      ],
      "execution_count": null,
      "outputs": [
        {
          "output_type": "stream",
          "text": [
            "Best: depth = 9, size = 9\n"
          ],
          "name": "stdout"
        }
      ]
    },
    {
      "cell_type": "markdown",
      "metadata": {
        "id": "RD_SjDZBoA_p"
      },
      "source": [
        "# Реализация классификации дерева решений"
      ]
    },
    {
      "cell_type": "code",
      "metadata": {
        "id": "w-RQlm7voA_p",
        "outputId": "bc09419f-76b4-4dcc-adfe-fa379a6a464a"
      },
      "source": [
        "model = DecisionTree()\n",
        "accuracy, precision, roc_auc = cross_val_scoring(model, X.values, Y.values)\n",
        "print_error_validation(accuracy, precision, roc_auc)"
      ],
      "execution_count": null,
      "outputs": [
        {
          "output_type": "stream",
          "text": [
            "Ошибки на кросс валидации:\n",
            "Accuracy  = 0.8441102756892229\n",
            "Precision = 0.8441102756892229\n",
            "Roc auc   = 0.8965187796097869\n"
          ],
          "name": "stdout"
        }
      ]
    },
    {
      "cell_type": "code",
      "metadata": {
        "id": "Sy_xWJ-loA_p",
        "outputId": "09dde66e-2af0-4396-b3d5-a56efb56f730"
      },
      "source": [
        "retrain(model, x_train.values, x_test.values, y_train.values, y_test.values)"
      ],
      "execution_count": null,
      "outputs": [
        {
          "output_type": "stream",
          "text": [
            "Ошибки на выборках\n",
            "            Train                  Test\n",
            "Accuracy  = 0.9461077844311377  |  0.8194233687405159\n",
            "Precision = 0.9461077844311377  |  0.8194233687405159\n",
            "Roc auc   = 0.9641322657183546   |  0.8795584678359948\n"
          ],
          "name": "stdout"
        }
      ]
    },
    {
      "cell_type": "markdown",
      "metadata": {
        "id": "gIjvd4BBoA_q"
      },
      "source": [
        "# Реализация дерева с Sklearn"
      ]
    },
    {
      "cell_type": "code",
      "metadata": {
        "id": "XBQa0bUXoA_q",
        "outputId": "9ef24c74-1a6c-48bb-f882-f07ca8e82fa0"
      },
      "source": [
        "from sklearn import tree\n",
        "from sklearn.model_selection import cross_val_score\n",
        "from sklearn.model_selection import cross_validate\n",
        "from sklearn.model_selection import GridSearchCV\n",
        "scoring = ['precision_macro', 'roc_auc','accuracy']\n",
        "scoring_test = ['test_accuracy','test_precision_macro','test_roc_auc']\n",
        "\n",
        "dt = tree.DecisionTreeClassifier()\n",
        "\n",
        "dt.fit(x_train, y_train)\n",
        "y_pred = dt.predict(x_test)\n",
        "\n",
        "print(f'Ошибка на выборках:\\nAccuracy = {accuracy_score(y_test, y_pred)}')"
      ],
      "execution_count": null,
      "outputs": [
        {
          "output_type": "stream",
          "text": [
            "Ошибка на выборках:\n",
            "Accuracy = 0.8270106221547799\n"
          ],
          "name": "stdout"
        }
      ]
    },
    {
      "cell_type": "markdown",
      "metadata": {
        "id": "YFWMUmC9oA_q"
      },
      "source": [
        "### Поиск по параметрам"
      ]
    },
    {
      "cell_type": "code",
      "metadata": {
        "id": "a0PDyL_6oA_q"
      },
      "source": [
        "clf = tree.DecisionTreeClassifier()\n",
        "parameters = {'max_depth':np.arange(5,10,1), 'min_samples_split':np.arange(5,10,1)}\n",
        "clf_cv = GridSearchCV(clf, parameters)"
      ],
      "execution_count": null,
      "outputs": []
    },
    {
      "cell_type": "code",
      "metadata": {
        "id": "Pkr94JDFoA_r",
        "outputId": "ce5dd619-dd97-4406-a4a3-8cdcc70f77e2"
      },
      "source": [
        "clf_cv.fit(x_train,y_train)"
      ],
      "execution_count": null,
      "outputs": [
        {
          "output_type": "execute_result",
          "data": {
            "text/plain": [
              "GridSearchCV(cv=None, error_score=nan,\n",
              "             estimator=DecisionTreeClassifier(ccp_alpha=0.0, class_weight=None,\n",
              "                                              criterion='gini', max_depth=None,\n",
              "                                              max_features=None,\n",
              "                                              max_leaf_nodes=None,\n",
              "                                              min_impurity_decrease=0.0,\n",
              "                                              min_impurity_split=None,\n",
              "                                              min_samples_leaf=1,\n",
              "                                              min_samples_split=2,\n",
              "                                              min_weight_fraction_leaf=0.0,\n",
              "                                              presort='deprecated',\n",
              "                                              random_state=None,\n",
              "                                              splitter='best'),\n",
              "             iid='deprecated', n_jobs=None,\n",
              "             param_grid={'max_depth': array([5, 6, 7, 8, 9]),\n",
              "                         'min_samples_split': array([5, 6, 7, 8, 9])},\n",
              "             pre_dispatch='2*n_jobs', refit=True, return_train_score=False,\n",
              "             scoring=None, verbose=0)"
            ]
          },
          "metadata": {
            "tags": []
          },
          "execution_count": 8
        }
      ]
    },
    {
      "cell_type": "code",
      "metadata": {
        "id": "0rvqfNzAoA_r",
        "outputId": "1d811ed3-65c2-449f-8089-8aa12926a573"
      },
      "source": [
        "clf_cv.best_estimator_"
      ],
      "execution_count": null,
      "outputs": [
        {
          "output_type": "execute_result",
          "data": {
            "text/plain": [
              "DecisionTreeClassifier(ccp_alpha=0.0, class_weight=None, criterion='gini',\n",
              "                       max_depth=6, max_features=None, max_leaf_nodes=None,\n",
              "                       min_impurity_decrease=0.0, min_impurity_split=None,\n",
              "                       min_samples_leaf=1, min_samples_split=9,\n",
              "                       min_weight_fraction_leaf=0.0, presort='deprecated',\n",
              "                       random_state=None, splitter='best')"
            ]
          },
          "metadata": {
            "tags": []
          },
          "execution_count": 11
        }
      ]
    },
    {
      "cell_type": "code",
      "metadata": {
        "id": "x0MW7vt3oA_r"
      },
      "source": [
        "clf = tree.DecisionTreeClassifier(max_depth = max_depth, min_samples_split=min_size)"
      ],
      "execution_count": null,
      "outputs": []
    },
    {
      "cell_type": "code",
      "metadata": {
        "id": "ccdMLkMioA_r",
        "outputId": "acd21ab3-8698-454d-9d87-18b53b8e5dce"
      },
      "source": [
        "retrain(clf, x_train.values, x_test.values, y_train.values, y_test.values)"
      ],
      "execution_count": null,
      "outputs": [
        {
          "output_type": "stream",
          "text": [
            "Ошибки на выборках\n",
            "            Train                  Test\n",
            "Accuracy  = 0.9558383233532934  |  0.8270106221547799\n",
            "Precision = 0.9558383233532934  |  0.8270106221547799\n",
            "Roc auc   = 0.9705206250064274  |  0.8851529675356118\n"
          ],
          "name": "stdout"
        }
      ]
    }
  ]
}